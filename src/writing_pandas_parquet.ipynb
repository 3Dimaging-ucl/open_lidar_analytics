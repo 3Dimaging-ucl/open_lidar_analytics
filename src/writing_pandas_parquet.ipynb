{
 "cells": [
  {
   "cell_type": "markdown",
   "metadata": {},
   "source": [
    "# Writing a Pandas data frame with LAS data to a Parquet file"
   ]
  },
  {
   "cell_type": "markdown",
   "metadata": {},
   "source": [
    "## Populate data frame"
   ]
  },
  {
   "cell_type": "code",
   "execution_count": 4,
   "metadata": {},
   "outputs": [
    {
     "name": "stdout",
     "output_type": "stream",
     "text": [
      "Requirement already satisfied: laspy in /usr/local/python/3.10.8/lib/python3.10/site-packages (2.5.1)\n",
      "Requirement already satisfied: numpy in /home/codespace/.local/lib/python3.10/site-packages (from laspy) (1.26.1)\n",
      "Note: you may need to restart the kernel to use updated packages.\n"
     ]
    },
    {
     "data": {
      "text/html": [
       "<div>\n",
       "<style scoped>\n",
       "    .dataframe tbody tr th:only-of-type {\n",
       "        vertical-align: middle;\n",
       "    }\n",
       "\n",
       "    .dataframe tbody tr th {\n",
       "        vertical-align: top;\n",
       "    }\n",
       "\n",
       "    .dataframe thead th {\n",
       "        text-align: right;\n",
       "    }\n",
       "</style>\n",
       "<table border=\"1\" class=\"dataframe\">\n",
       "  <thead>\n",
       "    <tr style=\"text-align: right;\">\n",
       "      <th></th>\n",
       "      <th>X</th>\n",
       "      <th>Y</th>\n",
       "      <th>Z</th>\n",
       "      <th>intensity</th>\n",
       "      <th>raw_classification</th>\n",
       "      <th>gps_time</th>\n",
       "    </tr>\n",
       "  </thead>\n",
       "  <tbody>\n",
       "    <tr>\n",
       "      <th>0</th>\n",
       "      <td>555000.0625</td>\n",
       "      <td>4887200.0</td>\n",
       "      <td>120.940003</td>\n",
       "      <td>30</td>\n",
       "      <td>1</td>\n",
       "      <td>467000.43750</td>\n",
       "    </tr>\n",
       "    <tr>\n",
       "      <th>1</th>\n",
       "      <td>555000.6875</td>\n",
       "      <td>4887199.5</td>\n",
       "      <td>117.330002</td>\n",
       "      <td>22</td>\n",
       "      <td>1</td>\n",
       "      <td>467000.50000</td>\n",
       "    </tr>\n",
       "    <tr>\n",
       "      <th>2</th>\n",
       "      <td>555001.3125</td>\n",
       "      <td>4887200.0</td>\n",
       "      <td>115.339996</td>\n",
       "      <td>10</td>\n",
       "      <td>1</td>\n",
       "      <td>467000.50000</td>\n",
       "    </tr>\n",
       "    <tr>\n",
       "      <th>3</th>\n",
       "      <td>555000.1875</td>\n",
       "      <td>4887197.0</td>\n",
       "      <td>123.910004</td>\n",
       "      <td>31</td>\n",
       "      <td>1</td>\n",
       "      <td>467000.53125</td>\n",
       "    </tr>\n",
       "    <tr>\n",
       "      <th>4</th>\n",
       "      <td>555001.9375</td>\n",
       "      <td>4887200.0</td>\n",
       "      <td>111.110001</td>\n",
       "      <td>8</td>\n",
       "      <td>1</td>\n",
       "      <td>467000.53125</td>\n",
       "    </tr>\n",
       "  </tbody>\n",
       "</table>\n",
       "</div>"
      ],
      "text/plain": [
       "             X          Y           Z  intensity  raw_classification  \\\n",
       "0  555000.0625  4887200.0  120.940003         30                   1   \n",
       "1  555000.6875  4887199.5  117.330002         22                   1   \n",
       "2  555001.3125  4887200.0  115.339996         10                   1   \n",
       "3  555000.1875  4887197.0  123.910004         31                   1   \n",
       "4  555001.9375  4887200.0  111.110001          8                   1   \n",
       "\n",
       "       gps_time  \n",
       "0  467000.43750  \n",
       "1  467000.50000  \n",
       "2  467000.50000  \n",
       "3  467000.53125  \n",
       "4  467000.53125  "
      ]
     },
     "execution_count": 4,
     "metadata": {},
     "output_type": "execute_result"
    }
   ],
   "source": [
    "%pip install laspy\n",
    "import laspy\n",
    "las = laspy.read(\"../data/test.las\")\n",
    "\n",
    "import numpy as np\n",
    "import pandas as pd\n",
    "df = pd.DataFrame({'X': np.array(las.x), 'Y': np.array(las.y), 'Z': np.array(las.z), 'intensity': las.intensity, 'raw_classification': las.raw_classification, 'gps_time': las.gps_time})\n",
    "df.head(5)"
   ]
  },
  {
   "cell_type": "markdown",
   "metadata": {},
   "source": [
    "Show which verison of Pandas is installed"
   ]
  },
  {
   "cell_type": "code",
   "execution_count": 5,
   "metadata": {
    "scrolled": true
   },
   "outputs": [
    {
     "data": {
      "text/plain": [
       "'2.1.2'"
      ]
     },
     "execution_count": 5,
     "metadata": {},
     "output_type": "execute_result"
    }
   ],
   "source": [
    "pd.__version__"
   ]
  },
  {
   "cell_type": "markdown",
   "metadata": {},
   "source": [
    "The built-in parquet export only works if pandas is version 0.21.0 or newer. See the [Pandas doc](https://pandas.pydata.org/pandas-docs/stable/io.html#parquet). At least one parquet engine is required, so [fastparquet](https://fastparquet.readthedocs.io/en/latest/) or [pyarrow](https://arrow.apache.org/docs/python/) needs to be installed. The packages can also be used directly (see below)."
   ]
  },
  {
   "cell_type": "code",
   "execution_count": 19,
   "metadata": {},
   "outputs": [
    {
     "name": "stdout",
     "output_type": "stream",
     "text": [
      "Requirement already satisfied: pyarrow in /usr/local/python/3.10.8/lib/python3.10/site-packages (14.0.1)\n",
      "Requirement already satisfied: numpy>=1.16.6 in /home/codespace/.local/lib/python3.10/site-packages (from pyarrow) (1.26.1)\n",
      "Note: you may need to restart the kernel to use updated packages.\n",
      "Requirement already satisfied: fastparquet in /usr/local/python/3.10.8/lib/python3.10/site-packages (2023.10.1)\n",
      "Requirement already satisfied: pandas>=1.5.0 in /home/codespace/.local/lib/python3.10/site-packages (from fastparquet) (2.1.2)\n",
      "Requirement already satisfied: numpy>=1.20.3 in /home/codespace/.local/lib/python3.10/site-packages (from fastparquet) (1.26.1)\n",
      "Requirement already satisfied: cramjam>=2.3 in /usr/local/python/3.10.8/lib/python3.10/site-packages (from fastparquet) (2.7.0)\n",
      "Requirement already satisfied: fsspec in /home/codespace/.local/lib/python3.10/site-packages (from fastparquet) (2023.10.0)\n",
      "Requirement already satisfied: packaging in /home/codespace/.local/lib/python3.10/site-packages (from fastparquet) (23.2)\n",
      "Requirement already satisfied: python-dateutil>=2.8.2 in /home/codespace/.local/lib/python3.10/site-packages (from pandas>=1.5.0->fastparquet) (2.8.2)\n",
      "Requirement already satisfied: pytz>=2020.1 in /home/codespace/.local/lib/python3.10/site-packages (from pandas>=1.5.0->fastparquet) (2023.3.post1)\n",
      "Requirement already satisfied: tzdata>=2022.1 in /home/codespace/.local/lib/python3.10/site-packages (from pandas>=1.5.0->fastparquet) (2023.3)\n",
      "Requirement already satisfied: six>=1.5 in /home/codespace/.local/lib/python3.10/site-packages (from python-dateutil>=2.8.2->pandas>=1.5.0->fastparquet) (1.16.0)\n",
      "Note: you may need to restart the kernel to use updated packages.\n"
     ]
    }
   ],
   "source": [
    "%pip install pyarrow \n",
    "%pip install fastparquet\n",
    "df.to_parquet('../data/test.parquet', compression='None')\n",
    "df.to_parquet('../data/test.parquet_snappy', compression='snappy')\n",
    "df.to_parquet('../data/test.parquet.gzip', compression='gzip')"
   ]
  },
  {
   "cell_type": "markdown",
   "metadata": {},
   "source": [
    "We can compare the size of the resulting Parquet files to the original LAS files. Note that in this example not all attributes from the LAS file were copied over and that the coordinates are written as double."
   ]
  },
  {
   "cell_type": "code",
   "execution_count": 20,
   "metadata": {
    "scrolled": true
   },
   "outputs": [
    {
     "name": "stdout",
     "output_type": "stream",
     "text": [
      "LAS: 8.686984062194824 MB\n",
      "Parquet: 2.001495361328125 MB\n",
      "Parquet snappy: 1.9697446823120117 MB\n",
      "Parquet gzip: 1.7694463729858398 MB\n"
     ]
    }
   ],
   "source": [
    "import os\n",
    "print('LAS: {} MB'.format(os.stat('../data/test.las').st_size/(1024*1024)))\n",
    "print('Parquet: {} MB'.format(os.stat('../data/test.parquet').st_size/(1024*1024)))\n",
    "print('Parquet snappy: {} MB'.format(os.stat('../data/test.parquet_snappy').st_size/(1024*1024)))\n",
    "print('Parquet gzip: {} MB'.format(os.stat('../data/test.parquet.gzip').st_size/(1024*1024)))\n"
   ]
  },
  {
   "cell_type": "markdown",
   "metadata": {},
   "source": [
    "Alternativeley we can use the Apache Arrow Python module directly to export to Parquet. But the data frame has to be converted to a pyarrow table (copy data?)"
   ]
  },
  {
   "cell_type": "code",
   "execution_count": 21,
   "metadata": {},
   "outputs": [],
   "source": [
    "import pyarrow as pa\n",
    "import pyarrow.parquet as pq"
   ]
  },
  {
   "cell_type": "code",
   "execution_count": 22,
   "metadata": {},
   "outputs": [],
   "source": [
    "table = pa.Table.from_pandas(df)\n",
    "pq.write_table(table, '../data/test_pyarrow.parquet')"
   ]
  },
  {
   "cell_type": "markdown",
   "metadata": {},
   "source": [
    "Or one can use fastparquet to achieve the same without conversion directly on the pandas data frame. Here a multi-file output is written as typically used with Hive."
   ]
  },
  {
   "cell_type": "code",
   "execution_count": 23,
   "metadata": {},
   "outputs": [],
   "source": [
    "from fastparquet import write\n",
    "write('../data/test_fastparquet_compressed.parq', df,\n",
    "      compression='GZIP', file_scheme='hive')"
   ]
  }
 ],
 "metadata": {
  "kernelspec": {
   "display_name": "Python 3",
   "language": "python",
   "name": "python3"
  },
  "language_info": {
   "codemirror_mode": {
    "name": "ipython",
    "version": 3
   },
   "file_extension": ".py",
   "mimetype": "text/x-python",
   "name": "python",
   "nbconvert_exporter": "python",
   "pygments_lexer": "ipython3",
   "version": "3.10.8"
  }
 },
 "nbformat": 4,
 "nbformat_minor": 2
}
