{
  "cells": [
    {
      "metadata": {},
      "cell_type": "markdown",
      "source": "# Writing a Pandas data frame with LAS data to a Parquet file"
    },
    {
      "metadata": {},
      "cell_type": "markdown",
      "source": "## Populate data frame"
    },
    {
      "metadata": {
        "trusted": true
      },
      "cell_type": "code",
      "source": "from laspy.file import File\ninFile = File(\"../data/test.las\", mode = \"r\")\n\nimport pandas as pd\ndf = pd.DataFrame({'X': inFile.x, 'Y': inFile.y, 'Z': inFile.z, 'intensity': inFile.intensity, 'raw_classification': inFile.raw_classification, 'gps_time': inFile.gps_time})\ndf.head(5)",
      "execution_count": 4,
      "outputs": [
        {
          "output_type": "execute_result",
          "execution_count": 4,
          "data": {
            "text/plain": "             X          Y           Z      gps_time  intensity  \\\n0  555000.0625  4887200.0  120.940003  467000.43750         30   \n1  555000.6875  4887199.5  117.330002  467000.50000         22   \n2  555001.3125  4887200.0  115.339996  467000.50000         10   \n3  555000.1875  4887197.0  123.910004  467000.53125         31   \n4  555001.9375  4887200.0  111.110001  467000.53125          8   \n\n   raw_classification  \n0                   1  \n1                   1  \n2                   1  \n3                   1  \n4                   1  ",
            "text/html": "<div>\n<table border=\"1\" class=\"dataframe\">\n  <thead>\n    <tr style=\"text-align: right;\">\n      <th></th>\n      <th>X</th>\n      <th>Y</th>\n      <th>Z</th>\n      <th>gps_time</th>\n      <th>intensity</th>\n      <th>raw_classification</th>\n    </tr>\n  </thead>\n  <tbody>\n    <tr>\n      <th>0</th>\n      <td>555000.0625</td>\n      <td>4887200.0</td>\n      <td>120.940003</td>\n      <td>467000.43750</td>\n      <td>30</td>\n      <td>1</td>\n    </tr>\n    <tr>\n      <th>1</th>\n      <td>555000.6875</td>\n      <td>4887199.5</td>\n      <td>117.330002</td>\n      <td>467000.50000</td>\n      <td>22</td>\n      <td>1</td>\n    </tr>\n    <tr>\n      <th>2</th>\n      <td>555001.3125</td>\n      <td>4887200.0</td>\n      <td>115.339996</td>\n      <td>467000.50000</td>\n      <td>10</td>\n      <td>1</td>\n    </tr>\n    <tr>\n      <th>3</th>\n      <td>555000.1875</td>\n      <td>4887197.0</td>\n      <td>123.910004</td>\n      <td>467000.53125</td>\n      <td>31</td>\n      <td>1</td>\n    </tr>\n    <tr>\n      <th>4</th>\n      <td>555001.9375</td>\n      <td>4887200.0</td>\n      <td>111.110001</td>\n      <td>467000.53125</td>\n      <td>8</td>\n      <td>1</td>\n    </tr>\n  </tbody>\n</table>\n</div>"
          },
          "metadata": {}
        }
      ]
    },
    {
      "metadata": {},
      "cell_type": "markdown",
      "source": "show pandas version installed"
    },
    {
      "metadata": {
        "trusted": true,
        "scrolled": true
      },
      "cell_type": "code",
      "source": "pd.__version__",
      "execution_count": 100,
      "outputs": [
        {
          "output_type": "execute_result",
          "execution_count": 100,
          "data": {
            "text/plain": "u'0.19.2'"
          },
          "metadata": {}
        }
      ]
    },
    {
      "metadata": {},
      "cell_type": "markdown",
      "source": "The built-in parquet export only works if pandas is version 0.21.0 or newer. See the [Pandas doc](https://pandas.pydata.org/pandas-docs/stable/io.html#parquet)"
    },
    {
      "metadata": {
        "trusted": true
      },
      "cell_type": "code",
      "source": "df.to_parquet('df.parquet.gzip', compression='gzip')",
      "execution_count": 12,
      "outputs": [
        {
          "output_type": "error",
          "ename": "AttributeError",
          "evalue": "'DataFrame' object has no attribute 'to_parquet'",
          "traceback": [
            "\u001b[0;31m\u001b[0m",
            "\u001b[0;31mAttributeError\u001b[0mTraceback (most recent call last)",
            "\u001b[0;32m<ipython-input-12-b6a23c46a387>\u001b[0m in \u001b[0;36m<module>\u001b[0;34m()\u001b[0m\n\u001b[0;32m----> 1\u001b[0;31m \u001b[0mdf\u001b[0m\u001b[0;34m.\u001b[0m\u001b[0mto_parquet\u001b[0m\u001b[0;34m(\u001b[0m\u001b[0;34m'df.parquet.gzip'\u001b[0m\u001b[0;34m,\u001b[0m \u001b[0mcompression\u001b[0m\u001b[0;34m=\u001b[0m\u001b[0;34m'gzip'\u001b[0m\u001b[0;34m)\u001b[0m\u001b[0;34m\u001b[0m\u001b[0m\n\u001b[0m",
            "\u001b[0;32m/home/nbuser/anaconda2_501/lib/python2.7/site-packages/pandas/core/generic.pyc\u001b[0m in \u001b[0;36m__getattr__\u001b[0;34m(self, name)\u001b[0m\n\u001b[1;32m   2742\u001b[0m             \u001b[0;32mif\u001b[0m \u001b[0mname\u001b[0m \u001b[0;32min\u001b[0m \u001b[0mself\u001b[0m\u001b[0;34m.\u001b[0m\u001b[0m_info_axis\u001b[0m\u001b[0;34m:\u001b[0m\u001b[0;34m\u001b[0m\u001b[0m\n\u001b[1;32m   2743\u001b[0m                 \u001b[0;32mreturn\u001b[0m \u001b[0mself\u001b[0m\u001b[0;34m[\u001b[0m\u001b[0mname\u001b[0m\u001b[0;34m]\u001b[0m\u001b[0;34m\u001b[0m\u001b[0m\n\u001b[0;32m-> 2744\u001b[0;31m             \u001b[0;32mreturn\u001b[0m \u001b[0mobject\u001b[0m\u001b[0;34m.\u001b[0m\u001b[0m__getattribute__\u001b[0m\u001b[0;34m(\u001b[0m\u001b[0mself\u001b[0m\u001b[0;34m,\u001b[0m \u001b[0mname\u001b[0m\u001b[0;34m)\u001b[0m\u001b[0;34m\u001b[0m\u001b[0m\n\u001b[0m\u001b[1;32m   2745\u001b[0m \u001b[0;34m\u001b[0m\u001b[0m\n\u001b[1;32m   2746\u001b[0m     \u001b[0;32mdef\u001b[0m \u001b[0m__setattr__\u001b[0m\u001b[0;34m(\u001b[0m\u001b[0mself\u001b[0m\u001b[0;34m,\u001b[0m \u001b[0mname\u001b[0m\u001b[0;34m,\u001b[0m \u001b[0mvalue\u001b[0m\u001b[0;34m)\u001b[0m\u001b[0;34m:\u001b[0m\u001b[0;34m\u001b[0m\u001b[0m\n",
            "\u001b[0;31mAttributeError\u001b[0m: 'DataFrame' object has no attribute 'to_parquet'"
          ]
        }
      ]
    },
    {
      "metadata": {},
      "cell_type": "markdown",
      "source": "Alternativeley we can use the Apache Arrow Python module to export to Parquet. But the data frame has to be converted to a pyarrow table (copy data?)"
    },
    {
      "metadata": {
        "trusted": true
      },
      "cell_type": "code",
      "source": "!pip install pyarrow\nimport pyarrow as pa\nimport pyarrow.parquet as pq",
      "execution_count": 14,
      "outputs": [
        {
          "output_type": "stream",
          "text": "Requirement already satisfied: pyarrow in /home/nbuser/anaconda2_501/lib/python2.7/site-packages (0.11.1)\nRequirement already satisfied: six>=1.0.0 in /home/nbuser/anaconda2_501/lib/python2.7/site-packages (from pyarrow) (1.11.0)\nRequirement already satisfied: numpy>=1.14 in /home/nbuser/anaconda2_501/lib/python2.7/site-packages (from pyarrow) (1.15.2)\nRequirement already satisfied: futures; python_version < \"3.2\" in /home/nbuser/anaconda2_501/lib/python2.7/site-packages (from pyarrow) (3.1.1)\n\u001b[33mYou are using pip version 18.0, however version 18.1 is available.\nYou should consider upgrading via the 'pip install --upgrade pip' command.\u001b[0m\n",
          "name": "stdout"
        }
      ]
    },
    {
      "metadata": {
        "trusted": true
      },
      "cell_type": "code",
      "source": "table = pa.Table.from_pandas(df)\npq.write_table(table, '../data/test.parquet')",
      "execution_count": 10,
      "outputs": []
    },
    {
      "metadata": {
        "trusted": true
      },
      "cell_type": "markdown",
      "source": "Or one can use fastparquet to achive the same without conversion directly on the pandas data frame."
    },
    {
      "metadata": {
        "trusted": true
      },
      "cell_type": "code",
      "source": "!pip install fastparquet",
      "execution_count": 15,
      "outputs": [
        {
          "output_type": "stream",
          "text": "Requirement already satisfied: fastparquet in /home/nbuser/anaconda2_501/lib/python2.7/site-packages (0.1.6)\nRequirement already satisfied: numba>=0.28 in /home/nbuser/anaconda2_501/lib/python2.7/site-packages (from fastparquet) (0.35.0+0.g24edca2e0.dirty)\nRequirement already satisfied: pytest-runner in /home/nbuser/anaconda2_501/lib/python2.7/site-packages (from fastparquet) (4.2)\nRequirement already satisfied: six in /home/nbuser/anaconda2_501/lib/python2.7/site-packages (from fastparquet) (1.11.0)\nRequirement already satisfied: numpy>=1.11 in /home/nbuser/anaconda2_501/lib/python2.7/site-packages (from fastparquet) (1.15.2)\nRequirement already satisfied: pandas>=0.19 in /home/nbuser/anaconda2_501/lib/python2.7/site-packages (from fastparquet) (0.19.2)\nRequirement already satisfied: thrift>=0.11.0 in /home/nbuser/anaconda2_501/lib/python2.7/site-packages (from fastparquet) (0.11.0)\nRequirement already satisfied: llvmlite in /home/nbuser/anaconda2_501/lib/python2.7/site-packages (from numba>=0.28->fastparquet) (0.20.0)\nRequirement already satisfied: enum34 in /home/nbuser/anaconda2_501/lib/python2.7/site-packages (from numba>=0.28->fastparquet) (1.1.6)\nRequirement already satisfied: singledispatch in /home/nbuser/anaconda2_501/lib/python2.7/site-packages (from numba>=0.28->fastparquet) (3.4.0.3)\nRequirement already satisfied: funcsigs in /home/nbuser/anaconda2_501/lib/python2.7/site-packages (from numba>=0.28->fastparquet) (1.0.2)\nRequirement already satisfied: python-dateutil in /home/nbuser/anaconda2_501/lib/python2.7/site-packages (from pandas>=0.19->fastparquet) (2.6.1)\nRequirement already satisfied: pytz>=2011k in /home/nbuser/anaconda2_501/lib/python2.7/site-packages (from pandas>=0.19->fastparquet) (2017.2)\n\u001b[33mYou are using pip version 18.0, however version 18.1 is available.\nYou should consider upgrading via the 'pip install --upgrade pip' command.\u001b[0m\n",
          "name": "stdout"
        }
      ]
    },
    {
      "metadata": {
        "trusted": true
      },
      "cell_type": "code",
      "source": "from fastparquet import write\nwrite('../data/test_compressed.parq', df,\n      compression='GZIP', file_scheme='hive')",
      "execution_count": 11,
      "outputs": []
    },
    {
      "metadata": {
        "trusted": true
      },
      "cell_type": "code",
      "source": "",
      "execution_count": null,
      "outputs": []
    }
  ],
  "metadata": {
    "kernelspec": {
      "name": "python2",
      "display_name": "Python 2",
      "language": "python"
    },
    "language_info": {
      "mimetype": "text/x-python",
      "nbconvert_exporter": "python",
      "name": "python",
      "pygments_lexer": "ipython2",
      "version": "2.7.14",
      "file_extension": ".py",
      "codemirror_mode": {
        "version": 2,
        "name": "ipython"
      }
    }
  },
  "nbformat": 4,
  "nbformat_minor": 2
}
