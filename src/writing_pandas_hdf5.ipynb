{
 "cells": [
  {
   "cell_type": "markdown",
   "metadata": {},
   "source": [
    "# Writing a Pandas data frame with LAS data to a HDF5 file"
   ]
  },
  {
   "cell_type": "markdown",
   "metadata": {},
   "source": [
    "## Populate data frame"
   ]
  },
  {
   "cell_type": "code",
   "execution_count": 19,
   "metadata": {},
   "outputs": [
    {
     "data": {
      "text/html": [
       "<div>\n",
       "<table border=\"1\" class=\"dataframe\">\n",
       "  <thead>\n",
       "    <tr style=\"text-align: right;\">\n",
       "      <th></th>\n",
       "      <th>X</th>\n",
       "      <th>Y</th>\n",
       "      <th>Z</th>\n",
       "      <th>gps_time</th>\n",
       "      <th>intensity</th>\n",
       "      <th>raw_classification</th>\n",
       "    </tr>\n",
       "  </thead>\n",
       "  <tbody>\n",
       "    <tr>\n",
       "      <th>0</th>\n",
       "      <td>555000.0625</td>\n",
       "      <td>4887200.0</td>\n",
       "      <td>120.940003</td>\n",
       "      <td>467000.43750</td>\n",
       "      <td>30</td>\n",
       "      <td>1</td>\n",
       "    </tr>\n",
       "    <tr>\n",
       "      <th>1</th>\n",
       "      <td>555000.6875</td>\n",
       "      <td>4887199.5</td>\n",
       "      <td>117.330002</td>\n",
       "      <td>467000.50000</td>\n",
       "      <td>22</td>\n",
       "      <td>1</td>\n",
       "    </tr>\n",
       "    <tr>\n",
       "      <th>2</th>\n",
       "      <td>555001.3125</td>\n",
       "      <td>4887200.0</td>\n",
       "      <td>115.339996</td>\n",
       "      <td>467000.50000</td>\n",
       "      <td>10</td>\n",
       "      <td>1</td>\n",
       "    </tr>\n",
       "    <tr>\n",
       "      <th>3</th>\n",
       "      <td>555000.1875</td>\n",
       "      <td>4887197.0</td>\n",
       "      <td>123.910004</td>\n",
       "      <td>467000.53125</td>\n",
       "      <td>31</td>\n",
       "      <td>1</td>\n",
       "    </tr>\n",
       "    <tr>\n",
       "      <th>4</th>\n",
       "      <td>555001.9375</td>\n",
       "      <td>4887200.0</td>\n",
       "      <td>111.110001</td>\n",
       "      <td>467000.53125</td>\n",
       "      <td>8</td>\n",
       "      <td>1</td>\n",
       "    </tr>\n",
       "  </tbody>\n",
       "</table>\n",
       "</div>"
      ],
      "text/plain": [
       "             X          Y           Z      gps_time  intensity  \\\n",
       "0  555000.0625  4887200.0  120.940003  467000.43750         30   \n",
       "1  555000.6875  4887199.5  117.330002  467000.50000         22   \n",
       "2  555001.3125  4887200.0  115.339996  467000.50000         10   \n",
       "3  555000.1875  4887197.0  123.910004  467000.53125         31   \n",
       "4  555001.9375  4887200.0  111.110001  467000.53125          8   \n",
       "\n",
       "   raw_classification  \n",
       "0                   1  \n",
       "1                   1  \n",
       "2                   1  \n",
       "3                   1  \n",
       "4                   1  "
      ]
     },
     "execution_count": 19,
     "metadata": {},
     "output_type": "execute_result"
    }
   ],
   "source": [
    "from laspy.file import File\n",
    "inFile = File(\"../data/test.las\", mode = \"r\")\n",
    "\n",
    "import pandas as pd\n",
    "df = pd.DataFrame({'X': inFile.x, 'Y': inFile.y, 'Z': inFile.z, 'intensity': inFile.intensity, 'raw_classification': inFile.raw_classification, 'gps_time': inFile.gps_time})\n",
    "df.head(5)"
   ]
  },
  {
   "cell_type": "markdown",
   "metadata": {},
   "source": [
    "## Write the data"
   ]
  },
  {
   "cell_type": "markdown",
   "metadata": {},
   "source": [
    "There is a built-in HDF export for data frames, see the [Pandas doc](http://pandas.pydata.org/pandas-docs/stable/io.html#hdf5-pytables)\n",
    "The 'key' identifies the object in the HDF file in case it contains multiple objects. We use 'LAS' as a key to indicate LAS data."
   ]
  },
  {
   "cell_type": "code",
   "execution_count": 30,
   "metadata": {},
   "outputs": [],
   "source": [
    "df.to_hdf('../data/test.h5', mode='w', key='LAS', format='fixed', complib='blosc', complevel=9)"
   ]
  },
  {
   "cell_type": "markdown",
   "metadata": {},
   "source": [
    "The HDF5 file can be compressed (depending on the version of pandas and parameters). But the data contains the coordinates as doubles, whereas LAS stores 4 byte integres (plus offset & scale in the header). We can compare the file sizes for this simple example of the original LAS and the resulting HDF file. Some general perfomrance considerations are given [here](https://pandas.pydata.org/pandas-docs/stable/io.html#performance-considerations)."
   ]
  },
  {
   "cell_type": "code",
   "execution_count": 22,
   "metadata": {},
   "outputs": [
    {
     "data": {
      "text/plain": [
       "9108963"
      ]
     },
     "execution_count": 22,
     "metadata": {},
     "output_type": "execute_result"
    }
   ],
   "source": [
    "import os\n",
    "statinfo = os.stat('../data/test.las')\n",
    "statinfo.st_size"
   ]
  },
  {
   "cell_type": "code",
   "execution_count": 31,
   "metadata": {},
   "outputs": [
    {
     "data": {
      "text/plain": [
       "6505778"
      ]
     },
     "execution_count": 31,
     "metadata": {},
     "output_type": "execute_result"
    }
   ],
   "source": [
    "statinfo = os.stat('../data/test.h5')\n",
    "statinfo.st_size"
   ]
  },
  {
   "cell_type": "markdown",
   "metadata": {},
   "source": [
    "## Read the data back"
   ]
  },
  {
   "cell_type": "code",
   "execution_count": 27,
   "metadata": {},
   "outputs": [
    {
     "data": {
      "text/html": [
       "<div>\n",
       "<table border=\"1\" class=\"dataframe\">\n",
       "  <thead>\n",
       "    <tr style=\"text-align: right;\">\n",
       "      <th></th>\n",
       "      <th>X</th>\n",
       "      <th>Y</th>\n",
       "      <th>Z</th>\n",
       "      <th>gps_time</th>\n",
       "      <th>intensity</th>\n",
       "      <th>raw_classification</th>\n",
       "    </tr>\n",
       "  </thead>\n",
       "  <tbody>\n",
       "    <tr>\n",
       "      <th>0</th>\n",
       "      <td>555000.0625</td>\n",
       "      <td>4887200.0</td>\n",
       "      <td>120.940003</td>\n",
       "      <td>467000.43750</td>\n",
       "      <td>30</td>\n",
       "      <td>1</td>\n",
       "    </tr>\n",
       "    <tr>\n",
       "      <th>1</th>\n",
       "      <td>555000.6875</td>\n",
       "      <td>4887199.5</td>\n",
       "      <td>117.330002</td>\n",
       "      <td>467000.50000</td>\n",
       "      <td>22</td>\n",
       "      <td>1</td>\n",
       "    </tr>\n",
       "    <tr>\n",
       "      <th>2</th>\n",
       "      <td>555001.3125</td>\n",
       "      <td>4887200.0</td>\n",
       "      <td>115.339996</td>\n",
       "      <td>467000.50000</td>\n",
       "      <td>10</td>\n",
       "      <td>1</td>\n",
       "    </tr>\n",
       "    <tr>\n",
       "      <th>3</th>\n",
       "      <td>555000.1875</td>\n",
       "      <td>4887197.0</td>\n",
       "      <td>123.910004</td>\n",
       "      <td>467000.53125</td>\n",
       "      <td>31</td>\n",
       "      <td>1</td>\n",
       "    </tr>\n",
       "    <tr>\n",
       "      <th>4</th>\n",
       "      <td>555001.9375</td>\n",
       "      <td>4887200.0</td>\n",
       "      <td>111.110001</td>\n",
       "      <td>467000.53125</td>\n",
       "      <td>8</td>\n",
       "      <td>1</td>\n",
       "    </tr>\n",
       "  </tbody>\n",
       "</table>\n",
       "</div>"
      ],
      "text/plain": [
       "             X          Y           Z      gps_time  intensity  \\\n",
       "0  555000.0625  4887200.0  120.940003  467000.43750         30   \n",
       "1  555000.6875  4887199.5  117.330002  467000.50000         22   \n",
       "2  555001.3125  4887200.0  115.339996  467000.50000         10   \n",
       "3  555000.1875  4887197.0  123.910004  467000.53125         31   \n",
       "4  555001.9375  4887200.0  111.110001  467000.53125          8   \n",
       "\n",
       "   raw_classification  \n",
       "0                   1  \n",
       "1                   1  \n",
       "2                   1  \n",
       "3                   1  \n",
       "4                   1  "
      ]
     },
     "execution_count": 27,
     "metadata": {},
     "output_type": "execute_result"
    }
   ],
   "source": [
    "df2 = pd.read_hdf('../data/test.h5', 'LAS')\n",
    "df2.head(5)"
   ]
  },
  {
   "cell_type": "code",
   "execution_count": null,
   "metadata": {},
   "outputs": [],
   "source": []
  }
 ],
 "metadata": {
  "kernelspec": {
   "display_name": "Python 2",
   "language": "python",
   "name": "python2"
  },
  "language_info": {
   "codemirror_mode": {
    "name": "ipython",
    "version": 2
   },
   "file_extension": ".py",
   "mimetype": "text/x-python",
   "name": "python",
   "nbconvert_exporter": "python",
   "pygments_lexer": "ipython2",
   "version": "2.7.15"
  }
 },
 "nbformat": 4,
 "nbformat_minor": 2
}
