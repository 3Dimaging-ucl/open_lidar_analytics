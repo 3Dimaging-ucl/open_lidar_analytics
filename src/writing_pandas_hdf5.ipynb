{
  "cells": [
    {
      "metadata": {},
      "cell_type": "markdown",
      "source": "# Writing a Pandas data frame with LAS data to a HDF5 file"
    },
    {
      "metadata": {},
      "cell_type": "markdown",
      "source": "## Populate data frame"
    },
    {
      "metadata": {
        "trusted": true
      },
      "cell_type": "code",
      "source": "from laspy.file import File\ninFile = File(\"../data/test.las\", mode = \"r\")\n\nimport pandas as pd\ndf = pd.DataFrame({'X': inFile.x, 'Y': inFile.y, 'Z': inFile.z, 'intensity': inFile.intensity, 'raw_classification': inFile.raw_classification, 'gps_time': inFile.gps_time})\ndf.head(5)",
      "execution_count": 19,
      "outputs": [
        {
          "output_type": "execute_result",
          "execution_count": 19,
          "data": {
            "text/plain": "             X          Y           Z      gps_time  intensity  \\\n0  555000.0625  4887200.0  120.940003  467000.43750         30   \n1  555000.6875  4887199.5  117.330002  467000.50000         22   \n2  555001.3125  4887200.0  115.339996  467000.50000         10   \n3  555000.1875  4887197.0  123.910004  467000.53125         31   \n4  555001.9375  4887200.0  111.110001  467000.53125          8   \n\n   raw_classification  \n0                   1  \n1                   1  \n2                   1  \n3                   1  \n4                   1  ",
            "text/html": "<div>\n<table border=\"1\" class=\"dataframe\">\n  <thead>\n    <tr style=\"text-align: right;\">\n      <th></th>\n      <th>X</th>\n      <th>Y</th>\n      <th>Z</th>\n      <th>gps_time</th>\n      <th>intensity</th>\n      <th>raw_classification</th>\n    </tr>\n  </thead>\n  <tbody>\n    <tr>\n      <th>0</th>\n      <td>555000.0625</td>\n      <td>4887200.0</td>\n      <td>120.940003</td>\n      <td>467000.43750</td>\n      <td>30</td>\n      <td>1</td>\n    </tr>\n    <tr>\n      <th>1</th>\n      <td>555000.6875</td>\n      <td>4887199.5</td>\n      <td>117.330002</td>\n      <td>467000.50000</td>\n      <td>22</td>\n      <td>1</td>\n    </tr>\n    <tr>\n      <th>2</th>\n      <td>555001.3125</td>\n      <td>4887200.0</td>\n      <td>115.339996</td>\n      <td>467000.50000</td>\n      <td>10</td>\n      <td>1</td>\n    </tr>\n    <tr>\n      <th>3</th>\n      <td>555000.1875</td>\n      <td>4887197.0</td>\n      <td>123.910004</td>\n      <td>467000.53125</td>\n      <td>31</td>\n      <td>1</td>\n    </tr>\n    <tr>\n      <th>4</th>\n      <td>555001.9375</td>\n      <td>4887200.0</td>\n      <td>111.110001</td>\n      <td>467000.53125</td>\n      <td>8</td>\n      <td>1</td>\n    </tr>\n  </tbody>\n</table>\n</div>"
          },
          "metadata": {}
        }
      ]
    },
    {
      "metadata": {},
      "cell_type": "markdown",
      "source": "## Write the data"
    },
    {
      "metadata": {},
      "cell_type": "markdown",
      "source": "There is a built-in HDF export for data frames, see http://pandas.pydata.org/pandas-docs/stable/generated/pandas.DataFrame.to_hdf.html\nThe 'key' identifies the object in the HDF file in case it conatins multiple objects. We use 'LAS' to indicate LAS data."
    },
    {
      "metadata": {
        "trusted": true
      },
      "cell_type": "code",
      "source": "df.to_hdf('../data/test.h5', mode='w', key='LAS', format='fixed', complib='blosc', complevel=9)",
      "execution_count": 30,
      "outputs": []
    },
    {
      "metadata": {},
      "cell_type": "markdown",
      "source": "The HDF5 file can be compressed (depending on the version of pandas and parameters). But the data contains the coordinates as doubles, whereas LAS stores 4 byte integres (plus offset & scale in the header)."
    },
    {
      "metadata": {
        "trusted": true
      },
      "cell_type": "code",
      "source": "import os\nstatinfo = os.stat('../data/test.las')\nstatinfo.st_size",
      "execution_count": 22,
      "outputs": [
        {
          "output_type": "execute_result",
          "execution_count": 22,
          "data": {
            "text/plain": "9108963"
          },
          "metadata": {}
        }
      ]
    },
    {
      "metadata": {
        "trusted": true
      },
      "cell_type": "code",
      "source": "statinfo = os.stat('../data/test.h5')\nstatinfo.st_size",
      "execution_count": 31,
      "outputs": [
        {
          "output_type": "execute_result",
          "execution_count": 31,
          "data": {
            "text/plain": "6505778"
          },
          "metadata": {}
        }
      ]
    },
    {
      "metadata": {},
      "cell_type": "markdown",
      "source": "## Read the data back"
    },
    {
      "metadata": {
        "trusted": true
      },
      "cell_type": "code",
      "source": "df2 = pd.read_hdf('../data/test.h5', 'LAS')\ndf2.head(5)",
      "execution_count": 27,
      "outputs": [
        {
          "output_type": "execute_result",
          "execution_count": 27,
          "data": {
            "text/plain": "             X          Y           Z      gps_time  intensity  \\\n0  555000.0625  4887200.0  120.940003  467000.43750         30   \n1  555000.6875  4887199.5  117.330002  467000.50000         22   \n2  555001.3125  4887200.0  115.339996  467000.50000         10   \n3  555000.1875  4887197.0  123.910004  467000.53125         31   \n4  555001.9375  4887200.0  111.110001  467000.53125          8   \n\n   raw_classification  \n0                   1  \n1                   1  \n2                   1  \n3                   1  \n4                   1  ",
            "text/html": "<div>\n<table border=\"1\" class=\"dataframe\">\n  <thead>\n    <tr style=\"text-align: right;\">\n      <th></th>\n      <th>X</th>\n      <th>Y</th>\n      <th>Z</th>\n      <th>gps_time</th>\n      <th>intensity</th>\n      <th>raw_classification</th>\n    </tr>\n  </thead>\n  <tbody>\n    <tr>\n      <th>0</th>\n      <td>555000.0625</td>\n      <td>4887200.0</td>\n      <td>120.940003</td>\n      <td>467000.43750</td>\n      <td>30</td>\n      <td>1</td>\n    </tr>\n    <tr>\n      <th>1</th>\n      <td>555000.6875</td>\n      <td>4887199.5</td>\n      <td>117.330002</td>\n      <td>467000.50000</td>\n      <td>22</td>\n      <td>1</td>\n    </tr>\n    <tr>\n      <th>2</th>\n      <td>555001.3125</td>\n      <td>4887200.0</td>\n      <td>115.339996</td>\n      <td>467000.50000</td>\n      <td>10</td>\n      <td>1</td>\n    </tr>\n    <tr>\n      <th>3</th>\n      <td>555000.1875</td>\n      <td>4887197.0</td>\n      <td>123.910004</td>\n      <td>467000.53125</td>\n      <td>31</td>\n      <td>1</td>\n    </tr>\n    <tr>\n      <th>4</th>\n      <td>555001.9375</td>\n      <td>4887200.0</td>\n      <td>111.110001</td>\n      <td>467000.53125</td>\n      <td>8</td>\n      <td>1</td>\n    </tr>\n  </tbody>\n</table>\n</div>"
          },
          "metadata": {}
        }
      ]
    },
    {
      "metadata": {
        "trusted": true
      },
      "cell_type": "code",
      "source": "",
      "execution_count": null,
      "outputs": []
    }
  ],
  "metadata": {
    "kernelspec": {
      "name": "python2",
      "display_name": "Python 2",
      "language": "python"
    },
    "language_info": {
      "mimetype": "text/x-python",
      "nbconvert_exporter": "python",
      "name": "python",
      "pygments_lexer": "ipython2",
      "version": "2.7.14",
      "file_extension": ".py",
      "codemirror_mode": {
        "version": 2,
        "name": "ipython"
      }
    }
  },
  "nbformat": 4,
  "nbformat_minor": 2
}