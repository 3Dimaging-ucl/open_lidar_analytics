{
  "cells": [
    {
      "metadata": {},
      "cell_type": "markdown",
      "source": "# Reading a LAS file into a Pandas data frame via laspy"
    },
    {
      "metadata": {},
      "cell_type": "markdown",
      "source": "## Install laspy library"
    },
    {
      "metadata": {
        "trusted": true
      },
      "cell_type": "code",
      "source": "!pip install laspy",
      "execution_count": 49,
      "outputs": [
        {
          "output_type": "stream",
          "text": "Requirement already satisfied: laspy in /home/nbuser/anaconda2_501/lib/python2.7/site-packages (1.5.1)\nRequirement already satisfied: numpy in /home/nbuser/anaconda2_501/lib/python2.7/site-packages (from laspy) (1.15.2)\n\u001b[33mYou are using pip version 18.0, however version 18.1 is available.\nYou should consider upgrading via the 'pip install --upgrade pip' command.\u001b[0m\n",
          "name": "stdout"
        }
      ]
    },
    {
      "metadata": {},
      "cell_type": "markdown",
      "source": "## Open LAS file"
    },
    {
      "metadata": {},
      "cell_type": "markdown",
      "source": "We follow the tutorial from https://pythonhosted.org/laspy/tut_part_1.html"
    },
    {
      "metadata": {
        "trusted": true
      },
      "cell_type": "code",
      "source": "from laspy.file import File\ninFile = File(\"../data/test.las\", mode = \"r\")",
      "execution_count": 50,
      "outputs": []
    },
    {
      "metadata": {
        "trusted": true
      },
      "cell_type": "markdown",
      "source": "Find out which attributes are stored with each record in the LAS file. This depends on the version of the LAS format and the application that created the file."
    },
    {
      "metadata": {
        "trusted": true,
        "scrolled": false
      },
      "cell_type": "code",
      "source": "pointformat = inFile.point_format\nfor spec in inFile.point_format:\n    print(spec.name)",
      "execution_count": 51,
      "outputs": [
        {
          "output_type": "stream",
          "text": "X\nY\nZ\nintensity\nflag_byte\nraw_classification\nscan_angle_rank\nuser_data\npt_src_id\ngps_time\nred\ngreen\nblue\n",
          "name": "stdout"
        }
      ]
    },
    {
      "metadata": {},
      "cell_type": "markdown",
      "source": "## Read the data"
    },
    {
      "metadata": {},
      "cell_type": "markdown",
      "source": "Using pandas (https://pandas.pydata.org/) load selected attributes of the records into a table with named headers."
    },
    {
      "metadata": {
        "trusted": true
      },
      "cell_type": "code",
      "source": "import pandas as pd\ndf = pd.DataFrame({'X': inFile.x, 'Y': inFile.y, 'Z': inFile.z, 'intensity': inFile.intensity, 'raw_classification': inFile.raw_classification})",
      "execution_count": 99,
      "outputs": []
    },
    {
      "metadata": {},
      "cell_type": "markdown",
      "source": "Check how many records were loaded and show the first 5 rows of the data frame."
    },
    {
      "metadata": {
        "trusted": true
      },
      "cell_type": "code",
      "source": "df.size",
      "execution_count": 92,
      "outputs": [
        {
          "output_type": "execute_result",
          "execution_count": 92,
          "data": {
            "text/plain": "1607424"
          },
          "metadata": {}
        }
      ]
    },
    {
      "metadata": {
        "trusted": true
      },
      "cell_type": "code",
      "source": "df.head(5)",
      "execution_count": 54,
      "outputs": [
        {
          "output_type": "execute_result",
          "execution_count": 54,
          "data": {
            "text/plain": "             X          Y           Z  intensity  raw_classification\n0  555000.0625  4887200.0  120.940003         30                   1\n1  555000.6875  4887199.5  117.330002         22                   1\n2  555001.3125  4887200.0  115.339996         10                   1\n3  555000.1875  4887197.0  123.910004         31                   1\n4  555001.9375  4887200.0  111.110001          8                   1",
            "text/html": "<div>\n<table border=\"1\" class=\"dataframe\">\n  <thead>\n    <tr style=\"text-align: right;\">\n      <th></th>\n      <th>X</th>\n      <th>Y</th>\n      <th>Z</th>\n      <th>intensity</th>\n      <th>raw_classification</th>\n    </tr>\n  </thead>\n  <tbody>\n    <tr>\n      <th>0</th>\n      <td>555000.0625</td>\n      <td>4887200.0</td>\n      <td>120.940003</td>\n      <td>30</td>\n      <td>1</td>\n    </tr>\n    <tr>\n      <th>1</th>\n      <td>555000.6875</td>\n      <td>4887199.5</td>\n      <td>117.330002</td>\n      <td>22</td>\n      <td>1</td>\n    </tr>\n    <tr>\n      <th>2</th>\n      <td>555001.3125</td>\n      <td>4887200.0</td>\n      <td>115.339996</td>\n      <td>10</td>\n      <td>1</td>\n    </tr>\n    <tr>\n      <th>3</th>\n      <td>555000.1875</td>\n      <td>4887197.0</td>\n      <td>123.910004</td>\n      <td>31</td>\n      <td>1</td>\n    </tr>\n    <tr>\n      <th>4</th>\n      <td>555001.9375</td>\n      <td>4887200.0</td>\n      <td>111.110001</td>\n      <td>8</td>\n      <td>1</td>\n    </tr>\n  </tbody>\n</table>\n</div>"
          },
          "metadata": {}
        }
      ]
    },
    {
      "metadata": {},
      "cell_type": "markdown",
      "source": "Further columns can be added at a later time"
    },
    {
      "metadata": {
        "trusted": true
      },
      "cell_type": "code",
      "source": "df2 = df.assign(gps_time = inFile.gps_time)\ndf2.head(5)",
      "execution_count": 63,
      "outputs": [
        {
          "output_type": "execute_result",
          "execution_count": 63,
          "data": {
            "text/plain": "             X          Y           Z  intensity  raw_classification  \\\n0  555000.0625  4887200.0  120.940003         30                   1   \n1  555000.6875  4887199.5  117.330002         22                   1   \n2  555001.3125  4887200.0  115.339996         10                   1   \n3  555000.1875  4887197.0  123.910004         31                   1   \n4  555001.9375  4887200.0  111.110001          8                   1   \n\n       gps_time  \n0  467000.43750  \n1  467000.50000  \n2  467000.50000  \n3  467000.53125  \n4  467000.53125  ",
            "text/html": "<div>\n<table border=\"1\" class=\"dataframe\">\n  <thead>\n    <tr style=\"text-align: right;\">\n      <th></th>\n      <th>X</th>\n      <th>Y</th>\n      <th>Z</th>\n      <th>intensity</th>\n      <th>raw_classification</th>\n      <th>gps_time</th>\n    </tr>\n  </thead>\n  <tbody>\n    <tr>\n      <th>0</th>\n      <td>555000.0625</td>\n      <td>4887200.0</td>\n      <td>120.940003</td>\n      <td>30</td>\n      <td>1</td>\n      <td>467000.43750</td>\n    </tr>\n    <tr>\n      <th>1</th>\n      <td>555000.6875</td>\n      <td>4887199.5</td>\n      <td>117.330002</td>\n      <td>22</td>\n      <td>1</td>\n      <td>467000.50000</td>\n    </tr>\n    <tr>\n      <th>2</th>\n      <td>555001.3125</td>\n      <td>4887200.0</td>\n      <td>115.339996</td>\n      <td>10</td>\n      <td>1</td>\n      <td>467000.50000</td>\n    </tr>\n    <tr>\n      <th>3</th>\n      <td>555000.1875</td>\n      <td>4887197.0</td>\n      <td>123.910004</td>\n      <td>31</td>\n      <td>1</td>\n      <td>467000.53125</td>\n    </tr>\n    <tr>\n      <th>4</th>\n      <td>555001.9375</td>\n      <td>4887200.0</td>\n      <td>111.110001</td>\n      <td>8</td>\n      <td>1</td>\n      <td>467000.53125</td>\n    </tr>\n  </tbody>\n</table>\n</div>"
          },
          "metadata": {}
        }
      ]
    },
    {
      "metadata": {},
      "cell_type": "markdown",
      "source": "But carefull as using 'assign' copies the whole data frame to a new one. Inserting should avoid this."
    },
    {
      "metadata": {
        "trusted": true
      },
      "cell_type": "code",
      "source": "df['gps_time'] = inFile.gps_time\ndf.head(5)",
      "execution_count": 67,
      "outputs": [
        {
          "output_type": "execute_result",
          "execution_count": 67,
          "data": {
            "text/plain": "             X          Y           Z  intensity  raw_classification  \\\n0  555000.0625  4887200.0  120.940003         30                   1   \n1  555000.6875  4887199.5  117.330002         22                   1   \n2  555001.3125  4887200.0  115.339996         10                   1   \n3  555000.1875  4887197.0  123.910004         31                   1   \n4  555001.9375  4887200.0  111.110001          8                   1   \n\n       gps_time  \n0  467000.43750  \n1  467000.50000  \n2  467000.50000  \n3  467000.53125  \n4  467000.53125  ",
            "text/html": "<div>\n<table border=\"1\" class=\"dataframe\">\n  <thead>\n    <tr style=\"text-align: right;\">\n      <th></th>\n      <th>X</th>\n      <th>Y</th>\n      <th>Z</th>\n      <th>intensity</th>\n      <th>raw_classification</th>\n      <th>gps_time</th>\n    </tr>\n  </thead>\n  <tbody>\n    <tr>\n      <th>0</th>\n      <td>555000.0625</td>\n      <td>4887200.0</td>\n      <td>120.940003</td>\n      <td>30</td>\n      <td>1</td>\n      <td>467000.43750</td>\n    </tr>\n    <tr>\n      <th>1</th>\n      <td>555000.6875</td>\n      <td>4887199.5</td>\n      <td>117.330002</td>\n      <td>22</td>\n      <td>1</td>\n      <td>467000.50000</td>\n    </tr>\n    <tr>\n      <th>2</th>\n      <td>555001.3125</td>\n      <td>4887200.0</td>\n      <td>115.339996</td>\n      <td>10</td>\n      <td>1</td>\n      <td>467000.50000</td>\n    </tr>\n    <tr>\n      <th>3</th>\n      <td>555000.1875</td>\n      <td>4887197.0</td>\n      <td>123.910004</td>\n      <td>31</td>\n      <td>1</td>\n      <td>467000.53125</td>\n    </tr>\n    <tr>\n      <th>4</th>\n      <td>555001.9375</td>\n      <td>4887200.0</td>\n      <td>111.110001</td>\n      <td>8</td>\n      <td>1</td>\n      <td>467000.53125</td>\n    </tr>\n  </tbody>\n</table>\n</div>"
          },
          "metadata": {}
        }
      ]
    },
    {
      "metadata": {},
      "cell_type": "markdown",
      "source": "We can query simple statistics for all attributes (i.e. along each column)"
    },
    {
      "metadata": {
        "trusted": true
      },
      "cell_type": "code",
      "source": "df.min()",
      "execution_count": 90,
      "outputs": [
        {
          "output_type": "execute_result",
          "execution_count": 90,
          "data": {
            "text/plain": "X                     5.543902e+05\nY                     4.886536e+06\nZ                    -1.160000e+00\nintensity             1.000000e+00\nraw_classification    1.000000e+00\ngps_time              4.659909e+05\ndtype: float64"
          },
          "metadata": {}
        }
      ]
    },
    {
      "metadata": {},
      "cell_type": "markdown",
      "source": "The resulting series is of uniform type. Check the data type for a specific attribute (i.e. a single column)"
    },
    {
      "metadata": {
        "trusted": true
      },
      "cell_type": "code",
      "source": "df['intensity'].dtype",
      "execution_count": 84,
      "outputs": [
        {
          "output_type": "execute_result",
          "execution_count": 84,
          "data": {
            "text/plain": "dtype('uint16')"
          },
          "metadata": {}
        }
      ]
    },
    {
      "metadata": {
        "trusted": true
      },
      "cell_type": "code",
      "source": "df['Z'].max()",
      "execution_count": 95,
      "outputs": [
        {
          "output_type": "execute_result",
          "execution_count": 95,
          "data": {
            "text/plain": "395.3800050094404"
          },
          "metadata": {}
        }
      ]
    }
  ],
  "metadata": {
    "kernelspec": {
      "name": "python2",
      "display_name": "Python 2",
      "language": "python"
    },
    "language_info": {
      "mimetype": "text/x-python",
      "nbconvert_exporter": "python",
      "name": "python",
      "pygments_lexer": "ipython2",
      "version": "2.7.14",
      "file_extension": ".py",
      "codemirror_mode": {
        "version": 2,
        "name": "ipython"
      }
    }
  },
  "nbformat": 4,
  "nbformat_minor": 2
}
