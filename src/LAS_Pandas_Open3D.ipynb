{
 "cells": [
  {
   "cell_type": "markdown",
   "metadata": {},
   "source": [
    "# Pass data from a Pandas data frame with LAS data to Open3D"
   ]
  },
  {
   "cell_type": "markdown",
   "metadata": {},
   "source": [
    "## Populate data frame from Parquet file"
   ]
  },
  {
   "cell_type": "markdown",
   "metadata": {},
   "source": [
    "Here we are only interested in the point cloud data, i.e. XYZ. So we can load only those columns from the parquet file."
   ]
  },
  {
   "cell_type": "code",
   "execution_count": 22,
   "metadata": {},
   "outputs": [
    {
     "data": {
      "text/html": [
       "<div>\n",
       "<style scoped>\n",
       "    .dataframe tbody tr th:only-of-type {\n",
       "        vertical-align: middle;\n",
       "    }\n",
       "\n",
       "    .dataframe tbody tr th {\n",
       "        vertical-align: top;\n",
       "    }\n",
       "\n",
       "    .dataframe thead th {\n",
       "        text-align: right;\n",
       "    }\n",
       "</style>\n",
       "<table border=\"1\" class=\"dataframe\">\n",
       "  <thead>\n",
       "    <tr style=\"text-align: right;\">\n",
       "      <th></th>\n",
       "      <th>X</th>\n",
       "      <th>Y</th>\n",
       "      <th>Z</th>\n",
       "    </tr>\n",
       "  </thead>\n",
       "  <tbody>\n",
       "    <tr>\n",
       "      <th>0</th>\n",
       "      <td>555000.0625</td>\n",
       "      <td>4887200.0</td>\n",
       "      <td>120.940003</td>\n",
       "    </tr>\n",
       "    <tr>\n",
       "      <th>1</th>\n",
       "      <td>555000.6875</td>\n",
       "      <td>4887199.5</td>\n",
       "      <td>117.330002</td>\n",
       "    </tr>\n",
       "    <tr>\n",
       "      <th>2</th>\n",
       "      <td>555001.3125</td>\n",
       "      <td>4887200.0</td>\n",
       "      <td>115.339996</td>\n",
       "    </tr>\n",
       "    <tr>\n",
       "      <th>3</th>\n",
       "      <td>555000.1875</td>\n",
       "      <td>4887197.0</td>\n",
       "      <td>123.910004</td>\n",
       "    </tr>\n",
       "    <tr>\n",
       "      <th>4</th>\n",
       "      <td>555001.9375</td>\n",
       "      <td>4887200.0</td>\n",
       "      <td>111.110001</td>\n",
       "    </tr>\n",
       "  </tbody>\n",
       "</table>\n",
       "</div>"
      ],
      "text/plain": [
       "             X          Y           Z\n",
       "0  555000.0625  4887200.0  120.940003\n",
       "1  555000.6875  4887199.5  117.330002\n",
       "2  555001.3125  4887200.0  115.339996\n",
       "3  555000.1875  4887197.0  123.910004\n",
       "4  555001.9375  4887200.0  111.110001"
      ]
     },
     "execution_count": 22,
     "metadata": {},
     "output_type": "execute_result"
    }
   ],
   "source": [
    "import pandas as pd\n",
    "df = pd.read_parquet('../data/test.parquet', columns = ('X''Y''Z'))\n",
    "df.head(5)"
   ]
  },
  {
   "cell_type": "markdown",
   "metadata": {},
   "source": [
    "Collect XYZ values from the data frame into a numpy array."
   ]
  },
  {
   "cell_type": "code",
   "execution_count": 23,
   "metadata": {},
   "outputs": [],
   "source": [
    "xyz = df.values"
   ]
  },
  {
   "cell_type": "markdown",
   "metadata": {},
   "source": [
    "Install the [Open3D](http://www.open3d.org/) package."
   ]
  },
  {
   "cell_type": "code",
   "execution_count": 2,
   "metadata": {
    "collapsed": true
   },
   "outputs": [
    {
     "name": "stdout",
     "output_type": "stream",
     "text": [
      "Requirement already satisfied: open3d-python in c:\\programdata\\anaconda2\\lib\\site-packages (0.4.0.0)\n",
      "Requirement already satisfied: widgetsnbextension>=3.4.2 in c:\\programdata\\anaconda2\\lib\\site-packages (from open3d-python) (3.4.2)\n",
      "Requirement already satisfied: notebook>=5.7.0 in c:\\programdata\\anaconda2\\lib\\site-packages (from open3d-python) (5.7.0)\n",
      "Requirement already satisfied: numpy in c:\\programdata\\anaconda2\\lib\\site-packages (from open3d-python) (1.15.1)\n",
      "Requirement already satisfied: ipywidgets>=7.4.2 in c:\\programdata\\anaconda2\\lib\\site-packages (from open3d-python) (7.4.2)\n",
      "Requirement already satisfied: nbconvert in c:\\programdata\\anaconda2\\lib\\site-packages (from notebook>=5.7.0->open3d-python) (5.4.0)\n",
      "Requirement already satisfied: jupyter-client>=5.2.0 in c:\\programdata\\anaconda2\\lib\\site-packages (from notebook>=5.7.0->open3d-python) (5.2.3)\n",
      "Requirement already satisfied: Send2Trash in c:\\programdata\\anaconda2\\lib\\site-packages (from notebook>=5.7.0->open3d-python) (1.5.0)\n",
      "Requirement already satisfied: tornado>=4 in c:\\programdata\\anaconda2\\lib\\site-packages (from notebook>=5.7.0->open3d-python) (5.1)\n",
      "Requirement already satisfied: pyzmq>=17 in c:\\programdata\\anaconda2\\lib\\site-packages (from notebook>=5.7.0->open3d-python) (17.1.2)\n",
      "Requirement already satisfied: jinja2 in c:\\programdata\\anaconda2\\lib\\site-packages (from notebook>=5.7.0->open3d-python) (2.10)\n",
      "Requirement already satisfied: nbformat in c:\\programdata\\anaconda2\\lib\\site-packages (from notebook>=5.7.0->open3d-python) (4.4.0)\n",
      "Requirement already satisfied: prometheus-client in c:\\programdata\\anaconda2\\lib\\site-packages (from notebook>=5.7.0->open3d-python) (0.3.1)\n",
      "Requirement already satisfied: terminado>=0.8.1 in c:\\programdata\\anaconda2\\lib\\site-packages (from notebook>=5.7.0->open3d-python) (0.8.1)\n",
      "Requirement already satisfied: ipython-genutils in c:\\programdata\\anaconda2\\lib\\site-packages (from notebook>=5.7.0->open3d-python) (0.2.0)\n",
      "Requirement already satisfied: ipaddress; python_version == \"2.7\" in c:\\programdata\\anaconda2\\lib\\site-packages (from notebook>=5.7.0->open3d-python) (1.0.22)\n",
      "Requirement already satisfied: jupyter-core>=4.4.0 in c:\\programdata\\anaconda2\\lib\\site-packages (from notebook>=5.7.0->open3d-python) (4.4.0)\n",
      "Requirement already satisfied: ipykernel in c:\\programdata\\anaconda2\\lib\\site-packages (from notebook>=5.7.0->open3d-python) (4.10.0)\n",
      "Requirement already satisfied: traitlets>=4.2.1 in c:\\programdata\\anaconda2\\lib\\site-packages (from notebook>=5.7.0->open3d-python) (4.3.2)\n",
      "Requirement already satisfied: ipython<6.0.0,>=4.0.0; python_version < \"3.3\" in c:\\programdata\\anaconda2\\lib\\site-packages (from ipywidgets>=7.4.2->open3d-python) (5.8.0)\n",
      "Requirement already satisfied: mistune>=0.8.1 in c:\\programdata\\anaconda2\\lib\\site-packages (from nbconvert->notebook>=5.7.0->open3d-python) (0.8.3)\n",
      "Requirement already satisfied: pygments in c:\\programdata\\anaconda2\\lib\\site-packages (from nbconvert->notebook>=5.7.0->open3d-python) (2.2.0)\n",
      "Requirement already satisfied: entrypoints>=0.2.2 in c:\\programdata\\anaconda2\\lib\\site-packages (from nbconvert->notebook>=5.7.0->open3d-python) (0.2.3)\n",
      "Requirement already satisfied: bleach in c:\\programdata\\anaconda2\\lib\\site-packages (from nbconvert->notebook>=5.7.0->open3d-python) (2.1.4)\n",
      "Requirement already satisfied: pandocfilters>=1.4.1 in c:\\programdata\\anaconda2\\lib\\site-packages (from nbconvert->notebook>=5.7.0->open3d-python) (1.4.2)\n",
      "Requirement already satisfied: testpath in c:\\programdata\\anaconda2\\lib\\site-packages (from nbconvert->notebook>=5.7.0->open3d-python) (0.3.1)\n",
      "Requirement already satisfied: defusedxml in c:\\programdata\\anaconda2\\lib\\site-packages (from nbconvert->notebook>=5.7.0->open3d-python) (0.5.0)\n",
      "Requirement already satisfied: python-dateutil>=2.1 in c:\\programdata\\anaconda2\\lib\\site-packages (from jupyter-client>=5.2.0->notebook>=5.7.0->open3d-python) (2.7.3)\n",
      "Requirement already satisfied: singledispatch in c:\\programdata\\anaconda2\\lib\\site-packages (from tornado>=4->notebook>=5.7.0->open3d-python) (3.4.0.3)\n",
      "Requirement already satisfied: futures in c:\\programdata\\anaconda2\\lib\\site-packages (from tornado>=4->notebook>=5.7.0->open3d-python) (3.2.0)\n",
      "Requirement already satisfied: backports-abc>=0.4 in c:\\programdata\\anaconda2\\lib\\site-packages (from tornado>=4->notebook>=5.7.0->open3d-python) (0.5)\n",
      "Requirement already satisfied: MarkupSafe>=0.23 in c:\\programdata\\anaconda2\\lib\\site-packages (from jinja2->notebook>=5.7.0->open3d-python) (1.0)\n",
      "Requirement already satisfied: jsonschema!=2.5.0,>=2.4 in c:\\programdata\\anaconda2\\lib\\site-packages (from nbformat->notebook>=5.7.0->open3d-python) (2.6.0)\n",
      "Requirement already satisfied: six in c:\\programdata\\anaconda2\\lib\\site-packages (from traitlets>=4.2.1->notebook>=5.7.0->open3d-python) (1.11.0)\n",
      "Requirement already satisfied: decorator in c:\\programdata\\anaconda2\\lib\\site-packages (from traitlets>=4.2.1->notebook>=5.7.0->open3d-python) (4.3.0)\n",
      "Requirement already satisfied: enum34 in c:\\programdata\\anaconda2\\lib\\site-packages (from traitlets>=4.2.1->notebook>=5.7.0->open3d-python) (1.1.6)\n",
      "Requirement already satisfied: prompt-toolkit<2.0.0,>=1.0.4 in c:\\programdata\\anaconda2\\lib\\site-packages (from ipython<6.0.0,>=4.0.0; python_version < \"3.3\"->ipywidgets>=7.4.2->open3d-python) (1.0.15)\n",
      "Requirement already satisfied: setuptools>=18.5 in c:\\programdata\\anaconda2\\lib\\site-packages (from ipython<6.0.0,>=4.0.0; python_version < \"3.3\"->ipywidgets>=7.4.2->open3d-python) (40.2.0)\n",
      "Requirement already satisfied: pickleshare in c:\\programdata\\anaconda2\\lib\\site-packages (from ipython<6.0.0,>=4.0.0; python_version < \"3.3\"->ipywidgets>=7.4.2->open3d-python) (0.7.4)\n",
      "Requirement already satisfied: win-unicode-console>=0.5; sys_platform == \"win32\" and python_version < \"3.6\" in c:\\programdata\\anaconda2\\lib\\site-packages (from ipython<6.0.0,>=4.0.0; python_version < \"3.3\"->ipywidgets>=7.4.2->open3d-python) (0.5)\n",
      "Requirement already satisfied: pathlib2; python_version == \"2.7\" or python_version == \"3.3\" in c:\\programdata\\anaconda2\\lib\\site-packages (from ipython<6.0.0,>=4.0.0; python_version < \"3.3\"->ipywidgets>=7.4.2->open3d-python) (2.3.2)\n",
      "Requirement already satisfied: backports.shutil-get-terminal-size; python_version == \"2.7\" in c:\\programdata\\anaconda2\\lib\\site-packages (from ipython<6.0.0,>=4.0.0; python_version < \"3.3\"->ipywidgets>=7.4.2->open3d-python) (1.0.0)\n",
      "Requirement already satisfied: colorama; sys_platform == \"win32\" in c:\\programdata\\anaconda2\\lib\\site-packages (from ipython<6.0.0,>=4.0.0; python_version < \"3.3\"->ipywidgets>=7.4.2->open3d-python) (0.3.9)\n",
      "Requirement already satisfied: simplegeneric>0.8 in c:\\programdata\\anaconda2\\lib\\site-packages (from ipython<6.0.0,>=4.0.0; python_version < \"3.3\"->ipywidgets>=7.4.2->open3d-python) (0.8.1)\n",
      "Requirement already satisfied: html5lib!=1.0b1,!=1.0b2,!=1.0b3,!=1.0b4,!=1.0b5,!=1.0b6,!=1.0b7,!=1.0b8,>=0.99999999pre in c:\\programdata\\anaconda2\\lib\\site-packages (from bleach->nbconvert->notebook>=5.7.0->open3d-python) (1.0.1)\n",
      "Requirement already satisfied: functools32 in c:\\programdata\\anaconda2\\lib\\site-packages (from jsonschema!=2.5.0,>=2.4->nbformat->notebook>=5.7.0->open3d-python) (3.2.3.post2)\n",
      "Requirement already satisfied: wcwidth in c:\\programdata\\anaconda2\\lib\\site-packages (from prompt-toolkit<2.0.0,>=1.0.4->ipython<6.0.0,>=4.0.0; python_version < \"3.3\"->ipywidgets>=7.4.2->open3d-python) (0.1.7)\n",
      "Requirement already satisfied: scandir in c:\\programdata\\anaconda2\\lib\\site-packages (from pathlib2; python_version == \"2.7\" or python_version == \"3.3\"->ipython<6.0.0,>=4.0.0; python_version < \"3.3\"->ipywidgets>=7.4.2->open3d-python) (1.9.0)\n",
      "Requirement already satisfied: webencodings in c:\\programdata\\anaconda2\\lib\\site-packages (from html5lib!=1.0b1,!=1.0b2,!=1.0b3,!=1.0b4,!=1.0b5,!=1.0b6,!=1.0b7,!=1.0b8,>=0.99999999pre->bleach->nbconvert->notebook>=5.7.0->open3d-python) (0.5.1)\n"
     ]
    }
   ],
   "source": [
    "!pip install open3d-python"
   ]
  },
  {
   "cell_type": "markdown",
   "metadata": {},
   "source": [
    "We create an Open3D PointCloud object from the numpy array and visualize the point cloud. The visualization opens in a seperate window. This will only work on a local Jupyter server. "
   ]
  },
  {
   "cell_type": "code",
   "execution_count": 25,
   "metadata": {},
   "outputs": [],
   "source": [
    "from open3d import PointCloud, Vector3dVector, write_point_cloud, draw_geometries\n",
    "\n",
    "pcd = PointCloud()\n",
    "pcd.points = Vector3dVector(xyz)\n",
    "draw_geometries([pcd])"
   ]
  },
  {
   "cell_type": "code",
   "execution_count": null,
   "metadata": {},
   "outputs": [],
   "source": []
  }
 ],
 "metadata": {
  "kernelspec": {
   "display_name": "Python 2",
   "language": "python",
   "name": "python2"
  },
  "language_info": {
   "codemirror_mode": {
    "name": "ipython",
    "version": 2
   },
   "file_extension": ".py",
   "mimetype": "text/x-python",
   "name": "python",
   "nbconvert_exporter": "python",
   "pygments_lexer": "ipython2",
   "version": "2.7.15"
  }
 },
 "nbformat": 4,
 "nbformat_minor": 2
}
